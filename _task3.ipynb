{
 "cells": [
  {
   "cell_type": "code",
   "execution_count": null,
   "id": "bcc74a1b-bae9-4154-b57d-1900fe33d385",
   "metadata": {},
   "outputs": [],
   "source": [
    "import pandas as pd\n",
    "import numpy as np\n",
    "import helper_functions as hf\n",
    "import _task1 as _task1\n",
    "from ydata_quality import DataQuality\n",
    "import time\n",
    "\n",
    "    "
   ]
  },
  {
   "cell_type": "code",
   "execution_count": null,
   "id": "ef954213-60f5-4223-a91c-ff59594dcd9d",
   "metadata": {},
   "outputs": [],
   "source": [
    "def integrationAndaggregationFunc():\n",
    "    ### READ IN THE 3 DATA SETS ###\n",
    "    # dataset containing some information on atuoscout240-data/manufacture from the files\n",
    "    dataset = _task1.preProcessingOfData()\n",
    "    # dataset containing information on returned orders\n",
    "    #returns = pd.read_excel('autoscout24-germany-dataset-merged.csv')\n",
    "    # dataset containing information on the managers for each region in the orders dataset\n",
    "    brands =  hf.readManufacturers()\n",
    "    datasetDfObj = pd.DataFrame(brands, columns=[ 'mark','country','year'])\n",
    "    datasetDfObj=datasetDfObj.astype({'mark': 'string', 'country': 'string', 'year':'int64'})\n",
    "\n",
    "    ###  Merge the datasets together ###\n",
    "\n",
    "    ###  Merge the datasets together ###\n",
    "    print('--------------------MERGING DATA-------------------------')\n",
    "\n",
    "    merged_df = (dataset.merge(brands, how='left', on='mark').merge(brands, how='left', on='country'))\n",
    "    merged_df.to_csv('autoscout24-germany-dataset-merged.csv', index=False)\n",
    "\n",
    "    print('Merged data output to data/output_data/merged_data.csv')\n",
    "    print('---------------------------------------------------------')\n",
    "\n",
    "    ### FILTERING EXAMPLES ###\n",
    "    print('----------FILTERING EXAMPLE 1: NOT RETURNED--------------')\n",
    "\n",
    "    #not_returned_df = merged_df.loc[merged_df['country'].isna(), :]\n",
    "    not_returned_df=merged_df.dropna()\n",
    "\n",
    "    #not_returned_df.to_csv('autoscout24-germany-dataset-merged-filtered.csv', index=False)\n",
    "\n",
    "    print('Result output to autoscout24-germany-dataset-merged-filtered.csv')\n",
    "    print('---------------------------------------------------------')\n",
    "\n",
    "\n",
    "\n",
    "    ### AGGREGATION?GROUPBY EXAMPLES ###\n",
    "\n",
    "    print('----------AGGREGATION EXAMPLE 1: MEAN()-----------------')\n",
    "\n",
    "    agg_example_1 = not_returned_df.groupby(by='country')['price'].mean()\n",
    "\n",
    "    print(agg_example_1)\n",
    "\n",
    "    print('---------------------------------------------------------')\n",
    "\n",
    "\n",
    "    print('------------AGGREGATION EXAMPLE 2: AGG()-----------------')\n",
    "\n",
    "    agg_example_2 = not_returned_df.groupby(by='country').agg({'mileage':'mean','year':'median'})\n",
    "\n",
    "    print(agg_example_2)\n",
    "\n",
    "    print('---------------------------------------------------------')\n",
    "\n"
   ]
  },
  {
   "cell_type": "code",
   "execution_count": null,
   "id": "9bad164f-a82b-45b9-8744-a7581eb51a0a",
   "metadata": {},
   "outputs": [],
   "source": []
  },
  {
   "cell_type": "code",
   "execution_count": null,
   "id": "6bb4bce9-46a0-48c6-84ac-be86317febf5",
   "metadata": {},
   "outputs": [],
   "source": []
  },
  {
   "cell_type": "code",
   "execution_count": null,
   "id": "526b6a61-3119-421d-afc9-d601e7827d68",
   "metadata": {},
   "outputs": [],
   "source": []
  },
  {
   "cell_type": "code",
   "execution_count": null,
   "id": "a442a487-f45a-4a47-a87f-201be8074432",
   "metadata": {},
   "outputs": [],
   "source": []
  }
 ],
 "metadata": {
  "kernelspec": {
   "display_name": "Python 3",
   "language": "python",
   "name": "python3"
  },
  "language_info": {
   "codemirror_mode": {
    "name": "ipython",
    "version": 3
   },
   "file_extension": ".py",
   "mimetype": "text/x-python",
   "name": "python",
   "nbconvert_exporter": "python",
   "pygments_lexer": "ipython3",
   "version": "3.8.8"
  }
 },
 "nbformat": 4,
 "nbformat_minor": 5
}

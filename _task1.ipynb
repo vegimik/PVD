{
 "cells": [
  {
   "cell_type": "code",
   "execution_count": null,
   "id": "70ed51d2-27ef-41c3-8f92-97d1d9acbc8f",
   "metadata": {},
   "outputs": [],
   "source": [
    "import numpy as np\n",
    "import matplotlib.pyplot as plt\n",
    "import helper_functions as hf\n",
    "\n",
    "\n",
    "def preProcessingOfData():\n",
    "    dataset = hf.readDataset()\n",
    "    _oldDataSet=dataset\n",
    "    print('=> Take a look at the first few rows')\n",
    "    print(dataset.head())\n",
    "    print(dataset.isnull().sum())\n",
    "\n",
    "    print('\\n')\n",
    "    print('=> Header tbl:  mileage(analysed before), make,   model,  fuel,  gear, offerType,  price,   hp,  year')\n",
    "    print(\n",
    "        dataset['make'].isnull().head(),\n",
    "        dataset['model'].isnull().head(),\n",
    "        dataset['fuel'].isnull().head(),\n",
    "        dataset['gear'].isnull().head(),\n",
    "        dataset['offerType'].isnull().head(),\n",
    "        dataset['price'].isnull().head(),\n",
    "        dataset['hp'].isnull().head(),\n",
    "        dataset['year'].isnull().head(),\n",
    "    )\n",
    "\n",
    "    print(dataset['mileage'])\n",
    "    print(dataset['mileage'].isnull())\n",
    "    print(dataset['mileage'].isnull().head())\n",
    "    \n",
    "\n",
    "    print('\\n')\n",
    "    print('Filling a null values using fillna')\n",
    "    dataset[\"model\"].fillna(\"Model\", inplace = True) \n",
    "    dataset[\"model\"].replace(to_replace = 'Model', value ='Other') \n",
    "    # Fill NaN values with a mean value\n",
    "    #dataset['col'] = dataset['model'].fillna(dataset['make'].mean())\n",
    "    dataset[\"gear\"].fillna(\"Manual\", inplace = True) \n",
    "    #dataset[\"hp\"].fillna(\"0\", inplace = True)  \n",
    "    \n",
    "    # Rename a column\n",
    "    dataset = dataset.rename(columns={'make': 'mark'})\n",
    "\n",
    "    print('Using dropna() function')\n",
    "    dataset=dataset.dropna()\n",
    "\n",
    "    \n",
    "    print('=> Take a look at the first few rows')\n",
    "    print(dataset.head())\n",
    "    print(dataset.isnull().sum())\n",
    "    \n",
    "    print('\\n')\n",
    "    print(\"Old data frame length:\", len(_oldDataSet))\n",
    "    print(\"New data frame length:\", len(dataset))\n",
    "    print(\"Number of rows with at least 1 NA value: \", (len(_oldDataSet)-len(dataset)))\n",
    "\n",
    "    \n",
    "    return dataset\n",
    "    \n",
    "    "
   ]
  },
  {
   "cell_type": "code",
   "execution_count": null,
   "id": "c0449c70-751a-40e0-939d-54ae457a17e7",
   "metadata": {},
   "outputs": [],
   "source": [
    "preProcessingOfData()"
   ]
  },
  {
   "cell_type": "code",
   "execution_count": null,
   "id": "743d08de-6f50-4390-9e72-250a8921749b",
   "metadata": {},
   "outputs": [],
   "source": []
  },
  {
   "cell_type": "code",
   "execution_count": null,
   "id": "fa79dd1d-29a8-4672-be8a-350b301f1b5b",
   "metadata": {},
   "outputs": [],
   "source": []
  }
 ],
 "metadata": {
  "kernelspec": {
   "display_name": "Python 3",
   "language": "python",
   "name": "python3"
  },
  "language_info": {
   "codemirror_mode": {
    "name": "ipython",
    "version": 3
   },
   "file_extension": ".py",
   "mimetype": "text/x-python",
   "name": "python",
   "nbconvert_exporter": "python",
   "pygments_lexer": "ipython3",
   "version": "3.8.8"
  }
 },
 "nbformat": 4,
 "nbformat_minor": 5
}

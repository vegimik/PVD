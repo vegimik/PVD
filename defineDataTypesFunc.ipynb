{
 "cells": [
  {
   "cell_type": "code",
   "execution_count": 24,
   "id": "5a9e68db-96c1-4573-984d-afad2d845606",
   "metadata": {},
   "outputs": [],
   "source": [
    "import pandas as pd\n",
    "import numpy as np\n",
    "import helper_functions as hf\n",
    "\n",
    "\n",
    "\n",
    "def defineDataTypesFunc():\n",
    "    # List of Tuples    \n",
    "    dataset = hf.readDataset()\n",
    "    \n",
    "    # Create a DataFrame object\n",
    "    datasetDfObj = pd.DataFrame(dataset, columns=[ 'mileage','make','model','fuel','gear','offerType','price','hp','year'])\n",
    "    print(\"Contents of the Dataframe : \")\n",
    "    print(datasetDfObj)\n",
    "    print('*** Get the Data type of each column in Dataframe ***')\n",
    "    # Get a Series object containing the data type objects of each column of Dataframe.\n",
    "    # Index of series is column name.\n",
    "    dataTypeSeries = datasetDfObj.dtypes\n",
    "    print('Data type of each column of Dataframe :')\n",
    "    print(dataTypeSeries)\n",
    "    # Get a Dictionary containing the pairs of column names & data type objects.\n",
    "    dataTypeDict = dict(datasetDfObj.dtypes)\n",
    "    print('Data type of each column of Dataframe :')\n",
    "    print(dataTypeDict)\n",
    "    print('*** Get the Data type of a single column in Dataframe ***')\n",
    "    # get data type of column 'Price'\n",
    "    dataTypeObj = datasetDfObj.dtypes['price']\n",
    "    print('Data type of each column Price in the Dataframe :')\n",
    "    print(dataTypeObj)\n",
    "    print('*** Check if Data type of a column is int64 or object etc in Dataframe ***')\n",
    "    # Check the type of column 'Price' is int64\n",
    "    if dataTypeObj == np.int64:\n",
    "        print(\"Data type of column 'Age' is int64\")\n",
    "    # Check the type of column 'Name' is object i.e string\n",
    "    if datasetDfObj.dtypes['make'] == np.object:\n",
    "        print(\"Data type of column 'Make' is object\")\n",
    "    print('** Get list of pandas dataframe columns based on data type **')\n",
    "    # Get  columns whose data type is object i.e. string\n",
    "    filteredColumns = empDfObj.dtypes[datasetDfObj.dtypes == np.object]\n",
    "    # list of columns whose data type is object i.e. string\n",
    "    listOfColumnNames = list(filteredColumns.index)\n",
    "    print(listOfColumnNames)\n",
    "    print('*** Get the Data type of each column in Dataframe using info() ***')\n",
    "    # Print complete details about the data frame, it will also print column count, names and data types.\n",
    "    datasetDfObj.info()\n",
    "    \n",
    "    \n",
    "    \n",
    "    "
   ]
  }
 ],
 "metadata": {
  "kernelspec": {
   "display_name": "Python 3",
   "language": "python",
   "name": "python3"
  },
  "language_info": {
   "codemirror_mode": {
    "name": "ipython",
    "version": 3
   },
   "file_extension": ".py",
   "mimetype": "text/x-python",
   "name": "python",
   "nbconvert_exporter": "python",
   "pygments_lexer": "ipython3",
   "version": "3.8.8"
  }
 },
 "nbformat": 4,
 "nbformat_minor": 5
}

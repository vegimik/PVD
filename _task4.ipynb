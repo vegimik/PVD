{
 "cells": [
  {
   "cell_type": "code",
   "execution_count": null,
   "id": "d9878cf5-560e-43bb-b4b2-f6203eabc299",
   "metadata": {},
   "outputs": [],
   "source": [
    "#conda install arcpy=2.9 -c esri"
   ]
  },
  {
   "cell_type": "code",
   "execution_count": null,
   "id": "1bf4d6a7-5956-4d72-909c-2180e2e2f22d",
   "metadata": {},
   "outputs": [],
   "source": [
    "import pandas as pd\n",
    "import numpy as np\n",
    "import _task1 as _task1\n",
    "import time\n",
    "import helper_functions as hf\n",
    "import arcpy"
   ]
  },
  {
   "cell_type": "code",
   "execution_count": null,
   "id": "885bd3b9",
   "metadata": {},
   "outputs": [],
   "source": [
    "def reductionAndSubset():\n",
    "    ### READ IN THE 3 DATA SETS ###\n",
    "    # dataset containing some information on atuoscout240-data/manufacture from the files\n",
    "    dataset = _task1.preProcessingOfData()\n",
    "    print(\"The Shape of Dataset:\")\n",
    "    print(dataset.shape)\n",
    "    print(\"Dataset type usage description:\")\n",
    "    print(dataset.describe(exclude='number'))"
   ]
  },
  {
   "cell_type": "code",
   "execution_count": null,
   "id": "ba45d70d",
   "metadata": {},
   "outputs": [],
   "source": [
    "reductionAndSubset()"
   ]
  },
  {
   "cell_type": "code",
   "execution_count": null,
   "id": "ab225b67",
   "metadata": {},
   "outputs": [],
   "source": [
    "#Uniform Manifold Approximation and Projection (UMAP)\n",
    "dataset = _task1.preProcessingOfData()\n",
    "\n",
    "print(\"Data Reduction started for Main Data Set.\")\n",
    "wanted_data_volume = ['mark', 'model','fuel','gear','offerType']\n",
    "print(\"Dimensionality reduction.\")\n",
    "print(f\"Wanted columns:\\n {wanted_data_volume}\")\n",
    "print(\"Data Reduction has been successfully reducted.\\n\")\n",
    "dataset = dataset[list(wanted_data_volume)]\n",
    "\n",
    "print(\"Subset Properties \\nDropping same row vaules of new subset...\")\n",
    "dataset = dataset.drop_duplicates(subset=wanted_data_volume,keep=False)\n",
    "\n",
    "print(\"Showing up the subset...\")\n",
    "dataset.rename(columns={'DisplayName': 'Subset'},inplace=True)\n",
    "print(dataset)\n",
    "\n",
    "filter = \"COUNT > 500\"\n",
    "field_properties = \"Field1 FLOAT true;Field2 STRING true;Field3 DOUBLE true\"\n",
    "file_extenstion = \"csv\"\n",
    "has_header_row = True\n",
    "file_encoding = \"UTF-8\""
   ]
  },
  {
   "cell_type": "markdown",
   "id": "c8ebc544",
   "metadata": {},
   "source": []
  }
 ],
 "metadata": {
  "kernelspec": {
   "display_name": "Python 3",
   "language": "python",
   "name": "python3"
  },
  "language_info": {
   "codemirror_mode": {
    "name": "ipython",
    "version": 3
   },
   "file_extension": ".py",
   "mimetype": "text/x-python",
   "name": "python",
   "nbconvert_exporter": "python",
   "pygments_lexer": "ipython3",
   "version": "3.8.8"
  }
 },
 "nbformat": 4,
 "nbformat_minor": 5
}

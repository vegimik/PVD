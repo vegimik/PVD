{
 "cells": [
  {
   "cell_type": "code",
   "execution_count": 39,
   "id": "bcc74a1b-bae9-4154-b57d-1900fe33d385",
   "metadata": {},
   "outputs": [],
   "source": [
    "import pandas as pd\n",
    "import numpy as np\n",
    "import helper_functions as hf\n",
    "import _task1 as _task1\n",
    "from ydata_quality import DataQuality\n",
    "import time\n",
    "\n",
    "\n",
    "def special_offer(discount):\n",
    "    if discount > 0.5:\n",
    "        return 1\n",
    "    else:\n",
    "        return 0\n",
    "    "
   ]
  },
  {
   "cell_type": "code",
   "execution_count": 40,
   "id": "ef954213-60f5-4223-a91c-ff59594dcd9d",
   "metadata": {},
   "outputs": [
    {
     "name": "stdout",
     "output_type": "stream",
     "text": [
      "=> Take a look at the first few rows\n",
      "   mileage        make   model      fuel    gear offerType  price     hp  year\n",
      "0   235000         BMW     316    Diesel  Manual      Used   6800  116.0  2011\n",
      "1    92800  Volkswagen    Golf  Gasoline  Manual      Used   6877  122.0  2011\n",
      "2   149300        SEAT    Exeo  Gasoline  Manual      Used   6900  160.0  2011\n",
      "3    96200     Renault  Megane  Gasoline  Manual      Used   6950  110.0  2011\n",
      "4   156000     Peugeot     308  Gasoline  Manual      Used   6950  156.0  2011\n",
      "mileage        0\n",
      "make           0\n",
      "model        143\n",
      "fuel           0\n",
      "gear         182\n",
      "offerType      0\n",
      "price          0\n",
      "hp            29\n",
      "year           0\n",
      "dtype: int64\n",
      "\n",
      "\n",
      "=> Header tbl:  mileage(analysed before), make,   model,  fuel,  gear, offerType,  price,   hp,  year\n",
      "0    False\n",
      "1    False\n",
      "2    False\n",
      "3    False\n",
      "4    False\n",
      "Name: make, dtype: bool 0    False\n",
      "1    False\n",
      "2    False\n",
      "3    False\n",
      "4    False\n",
      "Name: model, dtype: bool 0    False\n",
      "1    False\n",
      "2    False\n",
      "3    False\n",
      "4    False\n",
      "Name: fuel, dtype: bool 0    False\n",
      "1    False\n",
      "2    False\n",
      "3    False\n",
      "4    False\n",
      "Name: gear, dtype: bool 0    False\n",
      "1    False\n",
      "2    False\n",
      "3    False\n",
      "4    False\n",
      "Name: offerType, dtype: bool 0    False\n",
      "1    False\n",
      "2    False\n",
      "3    False\n",
      "4    False\n",
      "Name: price, dtype: bool 0    False\n",
      "1    False\n",
      "2    False\n",
      "3    False\n",
      "4    False\n",
      "Name: hp, dtype: bool 0    False\n",
      "1    False\n",
      "2    False\n",
      "3    False\n",
      "4    False\n",
      "Name: year, dtype: bool\n",
      "0        235000\n",
      "1         92800\n",
      "2        149300\n",
      "3         96200\n",
      "4        156000\n",
      "          ...  \n",
      "46400        99\n",
      "46401        99\n",
      "46402        99\n",
      "46403        99\n",
      "46404        99\n",
      "Name: mileage, Length: 46405, dtype: int64\n",
      "0        False\n",
      "1        False\n",
      "2        False\n",
      "3        False\n",
      "4        False\n",
      "         ...  \n",
      "46400    False\n",
      "46401    False\n",
      "46402    False\n",
      "46403    False\n",
      "46404    False\n",
      "Name: mileage, Length: 46405, dtype: bool\n",
      "0    False\n",
      "1    False\n",
      "2    False\n",
      "3    False\n",
      "4    False\n",
      "Name: mileage, dtype: bool\n",
      "\n",
      "\n",
      "Filling a null values using fillna\n",
      "Using dropna() function\n",
      "=> Take a look at the first few rows\n",
      "   mileage        mark   model      fuel    gear offerType  price     hp  year\n",
      "0   235000         BMW     316    Diesel  Manual      Used   6800  116.0  2011\n",
      "1    92800  Volkswagen    Golf  Gasoline  Manual      Used   6877  122.0  2011\n",
      "2   149300        SEAT    Exeo  Gasoline  Manual      Used   6900  160.0  2011\n",
      "3    96200     Renault  Megane  Gasoline  Manual      Used   6950  110.0  2011\n",
      "4   156000     Peugeot     308  Gasoline  Manual      Used   6950  156.0  2011\n",
      "mileage      0\n",
      "mark         0\n",
      "model        0\n",
      "fuel         0\n",
      "gear         0\n",
      "offerType    0\n",
      "price        0\n",
      "hp           0\n",
      "year         0\n",
      "dtype: int64\n",
      "\n",
      "\n",
      "Old data frame length: 46405\n",
      "New data frame length: 46376\n",
      "Number of rows with at least 1 NA value:  29\n"
     ]
    }
   ],
   "source": [
    "### READ IN THE 3 DATA SETS ###\n",
    "# dataset containing some information on orders/sales from the store\n",
    "dataset = _task1.preProcessingOfData()\n",
    "# dataset containing information on returned orders\n",
    "#returns = pd.read_excel('autoscout24-germany-dataset-merged.csv')\n",
    "# dataset containing information on the managers for each region in the orders dataset\n",
    "brands =  hf.readManufacturers()\n",
    "datasetDfObj = pd.DataFrame(brands, columns=[ 'mark','country','year'])\n",
    "datasetDfObj=datasetDfObj.astype({'mark': 'string', 'country': 'string', 'year':'int64'})\n",
    "\n",
    "###  Merge the datasets together ###"
   ]
  },
  {
   "cell_type": "code",
   "execution_count": 43,
   "id": "9bad164f-a82b-45b9-8744-a7581eb51a0a",
   "metadata": {},
   "outputs": [
    {
     "name": "stdout",
     "output_type": "stream",
     "text": [
      "--------------------MERGING DATA-------------------------\n",
      "Merged data output to data/output_data/merged_data.csv\n",
      "---------------------------------------------------------\n"
     ]
    }
   ],
   "source": [
    "\n",
    "###  Merge the datasets together ###\n",
    "print('--------------------MERGING DATA-------------------------')\n",
    "\n",
    "merged_df = (dataset.merge(brands, how='left', on='mark').merge(brands, how='left', on='country'))\n",
    "merged_df.to_csv('autoscout24-germany-dataset-merged.csv', index=False)\n",
    "\n",
    "print('Merged data output to data/output_data/merged_data.csv')\n",
    "print('---------------------------------------------------------')\n"
   ]
  },
  {
   "cell_type": "code",
   "execution_count": 44,
   "id": "6bb4bce9-46a0-48c6-84ac-be86317febf5",
   "metadata": {},
   "outputs": [
    {
     "name": "stdout",
     "output_type": "stream",
     "text": [
      "----------FILTERING EXAMPLE 1: NOT RETURNED--------------\n",
      "Result output to autoscout24-germany-dataset-merged.csv\n",
      "---------------------------------------------------------\n",
      "Result output to autoscout24-germany-dataset-merged-filtered.csv\n",
      "----------------------------------------------------------------\n"
     ]
    }
   ],
   "source": [
    "\n",
    "### FILTERING EXAMPLES ###\n",
    "print('----------FILTERING EXAMPLE 1: NOT RETURNED--------------')\n",
    "\n",
    "\n",
    "print('Result output to autoscout24-germany-dataset-merged.csv')\n",
    "print('---------------------------------------------------------')\n",
    "\n",
    "print('----------FILTERING EXAMPLE 2: NOT RETURNED IN JAX--------------')\n",
    "\n",
    "not_returned_jax = merged_df.loc[(merged_df['country'].isna()),:]\n",
    "\n",
    "#not_returned_jax = merged_df.loc[(merged_df['country'].isna()) & (merged_df['year_y'] ==merged_df['year_x'] ), :]\n",
    "\n",
    "not_returned_jax.to_csv('autoscout24-germany-dataset-merged-filtered.csv', index=False)\n",
    "\n",
    "print('Result output to autoscout24-germany-dataset-merged-filtered.csv')\n",
    "print('----------------------------------------------------------------')"
   ]
  },
  {
   "cell_type": "code",
   "execution_count": 42,
   "id": "526b6a61-3119-421d-afc9-d601e7827d68",
   "metadata": {},
   "outputs": [
    {
     "name": "stdout",
     "output_type": "stream",
     "text": [
      "----------AGGREGATION EXAMPLE 1: MEAN()-----------------\n"
     ]
    },
    {
     "ename": "KeyError",
     "evalue": "'Column not found: mark'",
     "output_type": "error",
     "traceback": [
      "\u001b[1;31m---------------------------------------------------------------------------\u001b[0m",
      "\u001b[1;31mKeyError\u001b[0m                                  Traceback (most recent call last)",
      "\u001b[1;32m<ipython-input-42-741bcc699e92>\u001b[0m in \u001b[0;36m<module>\u001b[1;34m\u001b[0m\n\u001b[0;32m      4\u001b[0m \u001b[0mprint\u001b[0m\u001b[1;33m(\u001b[0m\u001b[1;34m'----------AGGREGATION EXAMPLE 1: MEAN()-----------------'\u001b[0m\u001b[1;33m)\u001b[0m\u001b[1;33m\u001b[0m\u001b[1;33m\u001b[0m\u001b[0m\n\u001b[0;32m      5\u001b[0m \u001b[1;33m\u001b[0m\u001b[0m\n\u001b[1;32m----> 6\u001b[1;33m \u001b[0magg_example_1\u001b[0m \u001b[1;33m=\u001b[0m \u001b[0mnot_returned_df\u001b[0m\u001b[1;33m.\u001b[0m\u001b[0mgroupby\u001b[0m\u001b[1;33m(\u001b[0m\u001b[0mby\u001b[0m\u001b[1;33m=\u001b[0m\u001b[1;34m'country'\u001b[0m\u001b[1;33m)\u001b[0m\u001b[1;33m[\u001b[0m\u001b[1;34m'mark'\u001b[0m\u001b[1;33m]\u001b[0m\u001b[1;33m.\u001b[0m\u001b[0mmean\u001b[0m\u001b[1;33m(\u001b[0m\u001b[1;33m)\u001b[0m\u001b[1;33m\u001b[0m\u001b[1;33m\u001b[0m\u001b[0m\n\u001b[0m\u001b[0;32m      7\u001b[0m \u001b[1;33m\u001b[0m\u001b[0m\n\u001b[0;32m      8\u001b[0m \u001b[0mprint\u001b[0m\u001b[1;33m(\u001b[0m\u001b[0magg_example_1\u001b[0m\u001b[1;33m)\u001b[0m\u001b[1;33m\u001b[0m\u001b[1;33m\u001b[0m\u001b[0m\n",
      "\u001b[1;32m~\\anaconda3\\lib\\site-packages\\pandas\\core\\groupby\\generic.py\u001b[0m in \u001b[0;36m__getitem__\u001b[1;34m(self, key)\u001b[0m\n\u001b[0;32m   1540\u001b[0m                 \u001b[0mstacklevel\u001b[0m\u001b[1;33m=\u001b[0m\u001b[1;36m2\u001b[0m\u001b[1;33m,\u001b[0m\u001b[1;33m\u001b[0m\u001b[1;33m\u001b[0m\u001b[0m\n\u001b[0;32m   1541\u001b[0m             )\n\u001b[1;32m-> 1542\u001b[1;33m         \u001b[1;32mreturn\u001b[0m \u001b[0msuper\u001b[0m\u001b[1;33m(\u001b[0m\u001b[1;33m)\u001b[0m\u001b[1;33m.\u001b[0m\u001b[0m__getitem__\u001b[0m\u001b[1;33m(\u001b[0m\u001b[0mkey\u001b[0m\u001b[1;33m)\u001b[0m\u001b[1;33m\u001b[0m\u001b[1;33m\u001b[0m\u001b[0m\n\u001b[0m\u001b[0;32m   1543\u001b[0m \u001b[1;33m\u001b[0m\u001b[0m\n\u001b[0;32m   1544\u001b[0m     \u001b[1;32mdef\u001b[0m \u001b[0m_gotitem\u001b[0m\u001b[1;33m(\u001b[0m\u001b[0mself\u001b[0m\u001b[1;33m,\u001b[0m \u001b[0mkey\u001b[0m\u001b[1;33m,\u001b[0m \u001b[0mndim\u001b[0m\u001b[1;33m:\u001b[0m \u001b[0mint\u001b[0m\u001b[1;33m,\u001b[0m \u001b[0msubset\u001b[0m\u001b[1;33m=\u001b[0m\u001b[1;32mNone\u001b[0m\u001b[1;33m)\u001b[0m\u001b[1;33m:\u001b[0m\u001b[1;33m\u001b[0m\u001b[1;33m\u001b[0m\u001b[0m\n",
      "\u001b[1;32m~\\anaconda3\\lib\\site-packages\\pandas\\core\\base.py\u001b[0m in \u001b[0;36m__getitem__\u001b[1;34m(self, key)\u001b[0m\n\u001b[0;32m    278\u001b[0m             \u001b[1;31m# error: \"SelectionMixin\" has no attribute \"obj\"  [attr-defined]\u001b[0m\u001b[1;33m\u001b[0m\u001b[1;33m\u001b[0m\u001b[1;33m\u001b[0m\u001b[0m\n\u001b[0;32m    279\u001b[0m             \u001b[1;32mif\u001b[0m \u001b[0mkey\u001b[0m \u001b[1;32mnot\u001b[0m \u001b[1;32min\u001b[0m \u001b[0mself\u001b[0m\u001b[1;33m.\u001b[0m\u001b[0mobj\u001b[0m\u001b[1;33m:\u001b[0m  \u001b[1;31m# type: ignore[attr-defined]\u001b[0m\u001b[1;33m\u001b[0m\u001b[1;33m\u001b[0m\u001b[0m\n\u001b[1;32m--> 280\u001b[1;33m                 \u001b[1;32mraise\u001b[0m \u001b[0mKeyError\u001b[0m\u001b[1;33m(\u001b[0m\u001b[1;34mf\"Column not found: {key}\"\u001b[0m\u001b[1;33m)\u001b[0m\u001b[1;33m\u001b[0m\u001b[1;33m\u001b[0m\u001b[0m\n\u001b[0m\u001b[0;32m    281\u001b[0m             \u001b[1;32mreturn\u001b[0m \u001b[0mself\u001b[0m\u001b[1;33m.\u001b[0m\u001b[0m_gotitem\u001b[0m\u001b[1;33m(\u001b[0m\u001b[0mkey\u001b[0m\u001b[1;33m,\u001b[0m \u001b[0mndim\u001b[0m\u001b[1;33m=\u001b[0m\u001b[1;36m1\u001b[0m\u001b[1;33m)\u001b[0m\u001b[1;33m\u001b[0m\u001b[1;33m\u001b[0m\u001b[0m\n\u001b[0;32m    282\u001b[0m \u001b[1;33m\u001b[0m\u001b[0m\n",
      "\u001b[1;31mKeyError\u001b[0m: 'Column not found: mark'"
     ]
    }
   ],
   "source": [
    "\n",
    "\n",
    "### AGGREGATION?GROUPBY EXAMPLES ###\n",
    "\n",
    "\n",
    "print('----------AGGREGATION EXAMPLE 1: MEAN()-----------------')\n",
    "\n",
    "agg_example_1 = not_returned_df.groupby(by='country')['mark'].mean()\n",
    "\n",
    "print(agg_example_1)\n",
    "\n",
    "print('---------------------------------------------------------')\n",
    "\n",
    "\n",
    "print('------------AGGREGATION EXAMPLE 2: AGG()-----------------')\n",
    "\n",
    "agg_example_2 = not_returned_df.groupby(by='country').agg({'mark':'mean',\n",
    "                                            'price':'median'})\n",
    "\n",
    "print(agg_example_2)\n",
    "\n",
    "print('---------------------------------------------------------')\n"
   ]
  },
  {
   "cell_type": "code",
   "execution_count": null,
   "id": "a442a487-f45a-4a47-a87f-201be8074432",
   "metadata": {},
   "outputs": [],
   "source": []
  }
 ],
 "metadata": {
  "kernelspec": {
   "display_name": "Python 3",
   "language": "python",
   "name": "python3"
  },
  "language_info": {
   "codemirror_mode": {
    "name": "ipython",
    "version": 3
   },
   "file_extension": ".py",
   "mimetype": "text/x-python",
   "name": "python",
   "nbconvert_exporter": "python",
   "pygments_lexer": "ipython3",
   "version": "3.8.8"
  }
 },
 "nbformat": 4,
 "nbformat_minor": 5
}

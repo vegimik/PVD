{
 "cells": [
  {
   "cell_type": "code",
   "execution_count": null,
   "id": "3edddfb3-cba2-4f33-9444-a9ced67e9a54",
   "metadata": {},
   "outputs": [],
   "source": [
    "import numpy as np\n",
    "import matplotlib.pyplot as plt\n",
    "import helper_functions as hf\n",
    "\n",
    "# Importing the class called SimpleImputer from impute model in sklearn\n",
    "from sklearn.impute import SimpleImputer\n",
    "from sklearn.compose import ColumnTransformer\n",
    "from sklearn.preprocessing import OneHotEncoder\n",
    "\n",
    "#2. \n",
    "import _task1 as _task1\n",
    "import _task2 as _task2 \n",
    "import _task3 as _task3\n",
    "from ydata_quality import DataQuality"
   ]
  },
  {
   "cell_type": "code",
   "execution_count": null,
   "id": "344882ec-d2ae-4962-ba1e-f8c28130b30e",
   "metadata": {},
   "outputs": [],
   "source": [
    "# ==================================================================\n",
    "\n",
    "#\t1.\tPara-procesimi për pregaditjen e të dhënave për analizë\n",
    "\n",
    "# Define Data Types for dataset\n",
    "_task1.preProcessingOfData()\n",
    "\n",
    "\n",
    "\n",
    "\n",
    "# =================================================================="
   ]
  },
  {
   "cell_type": "code",
   "execution_count": null,
   "id": "82c1b76f-b054-44ed-a3da-a2f1bf4a2545",
   "metadata": {},
   "outputs": [],
   "source": [
    "# ==================================================================\n",
    "\n",
    "#\t2. Mbledhja e të dhënave, definimi i tipeve të të dhënave,kualiteti i të dhënave.\n",
    "\n",
    "# Define Data Types for dataset\n",
    "_task2.defineDataTypesFunc()\n",
    "\n",
    "\n",
    "\n",
    "\n",
    "# =================================================================="
   ]
  },
  {
   "cell_type": "code",
   "execution_count": null,
   "id": "6de77d64-4da5-4475-833f-21b8c917b4a8",
   "metadata": {},
   "outputs": [],
   "source": [
    "# ==================================================================\n",
    "\n",
    "#\t3.\tIntegrimi, agregimi, mostrimi, pastrimi, identifikimi dhe strategjia e trajtimit për vlerat e zbrazëta.\n",
    "_task3.ini_task3()\n",
    "\n",
    "# =================================================================="
   ]
  },
  {
   "cell_type": "code",
   "execution_count": null,
   "id": "2648fea8-f226-423d-968b-67c13b789add",
   "metadata": {},
   "outputs": [],
   "source": []
  },
  {
   "cell_type": "code",
   "execution_count": null,
   "id": "4869ac74-3c80-45e1-84ed-daae915db946",
   "metadata": {},
   "outputs": [],
   "source": []
  },
  {
   "cell_type": "code",
   "execution_count": null,
   "id": "77ef55b0-8214-4b82-aa94-10cdc2437586",
   "metadata": {},
   "outputs": [],
   "source": []
  },
  {
   "cell_type": "code",
   "execution_count": null,
   "id": "7e5f87dd-c237-4c37-8b7f-60a6be9a9eda",
   "metadata": {},
   "outputs": [],
   "source": []
  }
 ],
 "metadata": {
  "kernelspec": {
   "display_name": "Python 3",
   "language": "python",
   "name": "python3"
  },
  "language_info": {
   "codemirror_mode": {
    "name": "ipython",
    "version": 3
   },
   "file_extension": ".py",
   "mimetype": "text/x-python",
   "name": "python",
   "nbconvert_exporter": "python",
   "pygments_lexer": "ipython3",
   "version": "3.8.8"
  }
 },
 "nbformat": 4,
 "nbformat_minor": 5
}

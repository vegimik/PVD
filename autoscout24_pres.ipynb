{
 "cells": [
  {
   "cell_type": "code",
   "execution_count": 163,
   "id": "fa262279-d78c-4409-a08a-58dcc322a715",
   "metadata": {},
   "outputs": [],
   "source": [
    "import numpy as np\n",
    "import matplotlib.pyplot as plt\n",
    "import helper_functions as hf"
   ]
  },
  {
   "cell_type": "code",
   "execution_count": 164,
   "id": "dbf8dddc-986b-4037-b24b-c131c4fd7961",
   "metadata": {},
   "outputs": [],
   "source": [
    "# Importing the class called SimpleImputer from impute model in sklearn\n",
    "from sklearn.impute import SimpleImputer\n",
    "from sklearn.compose import ColumnTransformer\n",
    "from sklearn.preprocessing import OneHotEncoder\n",
    "\n",
    "#2. \n",
    "import defineDataTypesFunc as ddtf "
   ]
  },
  {
   "cell_type": "code",
   "execution_count": 165,
   "id": "344882ec-d2ae-4962-ba1e-f8c28130b30e",
   "metadata": {},
   "outputs": [
    {
     "name": "stdout",
     "output_type": "stream",
     "text": [
      "   mileage        make   model      fuel    gear offerType  price     hp  year\n",
      "0   235000         BMW     316    Diesel  Manual      Used   6800  116.0  2011\n",
      "1    92800  Volkswagen    Golf  Gasoline  Manual      Used   6877  122.0  2011\n",
      "2   149300        SEAT    Exeo  Gasoline  Manual      Used   6900  160.0  2011\n",
      "3    96200     Renault  Megane  Gasoline  Manual      Used   6950  110.0  2011\n",
      "4   156000     Peugeot     308  Gasoline  Manual      Used   6950  156.0  2011\n",
      "mileage        0\n",
      "make           0\n",
      "model        143\n",
      "fuel           0\n",
      "gear         182\n",
      "offerType      0\n",
      "price          0\n",
      "hp            29\n",
      "year           0\n",
      "dtype: int64\n"
     ]
    }
   ],
   "source": [
    "dataset = hf.readDataset()\n",
    "\n",
    "# Take a look at the first few rows\n",
    "print(dataset.head())\n",
    "print(dataset.isnull().sum())"
   ]
  },
  {
   "cell_type": "code",
   "execution_count": 166,
   "id": "57c09611-f13a-4d1f-8beb-c0c5217254b1",
   "metadata": {},
   "outputs": [
    {
     "name": "stdout",
     "output_type": "stream",
     "text": [
      "0    False\n",
      "1    False\n",
      "2    False\n",
      "3    False\n",
      "4    False\n",
      "Name: make, dtype: bool 0    False\n",
      "1    False\n",
      "2    False\n",
      "3    False\n",
      "4    False\n",
      "Name: model, dtype: bool 0    False\n",
      "1    False\n",
      "2    False\n",
      "3    False\n",
      "4    False\n",
      "Name: fuel, dtype: bool 0    False\n",
      "1    False\n",
      "2    False\n",
      "3    False\n",
      "4    False\n",
      "Name: gear, dtype: bool 0    False\n",
      "1    False\n",
      "2    False\n",
      "3    False\n",
      "4    False\n",
      "Name: offerType, dtype: bool 0    False\n",
      "1    False\n",
      "2    False\n",
      "3    False\n",
      "4    False\n",
      "Name: price, dtype: bool 0    False\n",
      "1    False\n",
      "2    False\n",
      "3    False\n",
      "4    False\n",
      "Name: hp, dtype: bool 0    False\n",
      "1    False\n",
      "2    False\n",
      "3    False\n",
      "4    False\n",
      "Name: year, dtype: bool\n",
      "0        235000\n",
      "1         92800\n",
      "2        149300\n",
      "3         96200\n",
      "4        156000\n",
      "          ...  \n",
      "46400        99\n",
      "46401        99\n",
      "46402        99\n",
      "46403        99\n",
      "46404        99\n",
      "Name: mileage, Length: 46405, dtype: int64\n",
      "0        False\n",
      "1        False\n",
      "2        False\n",
      "3        False\n",
      "4        False\n",
      "         ...  \n",
      "46400    False\n",
      "46401    False\n",
      "46402    False\n",
      "46403    False\n",
      "46404    False\n",
      "Name: mileage, Length: 46405, dtype: bool\n",
      "0    False\n",
      "1    False\n",
      "2    False\n",
      "3    False\n",
      "4    False\n",
      "Name: mileage, dtype: bool\n"
     ]
    }
   ],
   "source": [
    "#header tbl:  mileage(analysed before), make,   model,  fuel,  gear, offerType,  price,   hp,  year\n",
    "print(\n",
    "    dataset['make'].isnull().head(),\n",
    "    dataset['model'].isnull().head(),\n",
    "    dataset['fuel'].isnull().head(),\n",
    "    dataset['gear'].isnull().head(),\n",
    "    dataset['offerType'].isnull().head(),\n",
    "    dataset['price'].isnull().head(),\n",
    "    dataset['hp'].isnull().head(),\n",
    "    dataset['year'].isnull().head(),\n",
    ")\n",
    "\n",
    "print(dataset['mileage'])\n",
    "print(dataset['mileage'].isnull())\n",
    "print(dataset['mileage'].isnull().head())"
   ]
  },
  {
   "cell_type": "code",
   "execution_count": 169,
   "id": "82c1b76f-b054-44ed-a3da-a2f1bf4a2545",
   "metadata": {},
   "outputs": [
    {
     "name": "stdout",
     "output_type": "stream",
     "text": [
      "Contents of the Dataframe : \n",
      "       mileage        make   model               fuel    gear       offerType  \\\n",
      "0       235000         BMW     316             Diesel  Manual            Used   \n",
      "1        92800  Volkswagen    Golf           Gasoline  Manual            Used   \n",
      "2       149300        SEAT    Exeo           Gasoline  Manual            Used   \n",
      "3        96200     Renault  Megane           Gasoline  Manual            Used   \n",
      "4       156000     Peugeot     308           Gasoline  Manual            Used   \n",
      "...        ...         ...     ...                ...     ...             ...   \n",
      "46400       99        Fiat     500  Electric/Gasoline  Manual  Pre-registered   \n",
      "46401       99        Fiat     500  Electric/Gasoline  Manual  Pre-registered   \n",
      "46402       99        Fiat     500  Electric/Gasoline  Manual  Pre-registered   \n",
      "46403       99        Fiat     500  Electric/Gasoline  Manual  Pre-registered   \n",
      "46404       99        Fiat     500  Electric/Gasoline  Manual  Pre-registered   \n",
      "\n",
      "       price     hp  year  \n",
      "0       6800  116.0  2011  \n",
      "1       6877  122.0  2011  \n",
      "2       6900  160.0  2011  \n",
      "3       6950  110.0  2011  \n",
      "4       6950  156.0  2011  \n",
      "...      ...    ...   ...  \n",
      "46400  12990   71.0  2021  \n",
      "46401  12990   71.0  2021  \n",
      "46402  12990   71.0  2021  \n",
      "46403  12990   71.0  2021  \n",
      "46404  12990   71.0  2021  \n",
      "\n",
      "[46405 rows x 9 columns]\n",
      "*** Get the Data type of each column in Dataframe ***\n",
      "Data type of each column of Dataframe :\n",
      "mileage        int64\n",
      "make          object\n",
      "model         object\n",
      "fuel          object\n",
      "gear          object\n",
      "offerType     object\n",
      "price          int64\n",
      "hp           float64\n",
      "year           int64\n",
      "dtype: object\n",
      "Data type of each column of Dataframe :\n",
      "{'mileage': dtype('int64'), 'make': dtype('O'), 'model': dtype('O'), 'fuel': dtype('O'), 'gear': dtype('O'), 'offerType': dtype('O'), 'price': dtype('int64'), 'hp': dtype('float64'), 'year': dtype('int64')}\n",
      "*** Get the Data type of a single column in Dataframe ***\n",
      "Data type of each column Price in the Dataframe :\n"
     ]
    }
   ],
   "source": [
    "# ==================================================================\n",
    "\n",
    "#\t2. Mbledhja e të dhënave, definimi i tipeve të të dhënave,kualiteti i të dhënave.\n",
    "\n",
    "# Define Data Types for dataset\n",
    "ddtf.defineDataTypesFunc()\n",
    "\n",
    "\n",
    "\n",
    "\n",
    "# =================================================================="
   ]
  },
  {
   "cell_type": "code",
   "execution_count": null,
   "id": "6de77d64-4da5-4475-833f-21b8c917b4a8",
   "metadata": {},
   "outputs": [],
   "source": []
  },
  {
   "cell_type": "code",
   "execution_count": null,
   "id": "2648fea8-f226-423d-968b-67c13b789add",
   "metadata": {},
   "outputs": [],
   "source": []
  },
  {
   "cell_type": "code",
   "execution_count": null,
   "id": "4869ac74-3c80-45e1-84ed-daae915db946",
   "metadata": {},
   "outputs": [],
   "source": []
  },
  {
   "cell_type": "code",
   "execution_count": null,
   "id": "77ef55b0-8214-4b82-aa94-10cdc2437586",
   "metadata": {},
   "outputs": [],
   "source": []
  }
 ],
 "metadata": {
  "kernelspec": {
   "display_name": "Python 3",
   "language": "python",
   "name": "python3"
  },
  "language_info": {
   "codemirror_mode": {
    "name": "ipython",
    "version": 3
   },
   "file_extension": ".py",
   "mimetype": "text/x-python",
   "name": "python",
   "nbconvert_exporter": "python",
   "pygments_lexer": "ipython3",
   "version": "3.8.8"
  }
 },
 "nbformat": 4,
 "nbformat_minor": 5
}

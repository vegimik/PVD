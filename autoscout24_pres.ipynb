{
 "cells": [
  {
   "cell_type": "code",
   "execution_count": 110,
   "id": "53278138-8d3f-451a-85b3-93e9351b96a1",
   "metadata": {},
   "outputs": [],
   "source": [
    "import numpy as np\n",
    "import matplotlib.pyplot as plt\n",
    "import helper_functions as hf\n",
    "\n",
    "# Importing the class called SimpleImputer from impute model in sklearn\n",
    "from sklearn.impute import SimpleImputer\n",
    "\n",
    "from sklearn.compose import ColumnTransformer\n",
    "from sklearn.preprocessing import OneHotEncoder"
   ]
  },
  {
   "cell_type": "code",
   "execution_count": null,
   "id": "997af88e-469c-46f7-9c29-0269bdaf48bd",
   "metadata": {},
   "outputs": [],
   "source": []
  },
  {
   "cell_type": "code",
   "execution_count": null,
   "id": "b36929e6-683a-4fec-8dde-19d4e6078853",
   "metadata": {},
   "outputs": [],
   "source": []
  },
  {
   "cell_type": "code",
   "execution_count": 111,
   "id": "a4e97ef2-2d86-4543-bcfa-a8c5a19122fc",
   "metadata": {},
   "outputs": [],
   "source": [
    "dataset = hf.readDataset()"
   ]
  },
  {
   "cell_type": "code",
   "execution_count": 112,
   "id": "f5eb7322-865f-4ed2-965a-efb4ebe4f135",
   "metadata": {},
   "outputs": [
    {
     "name": "stdout",
     "output_type": "stream",
     "text": [
      "mileage        0\n",
      "make           0\n",
      "model        143\n",
      "fuel           0\n",
      "gear         182\n",
      "offerType      0\n",
      "price          0\n",
      "hp            29\n",
      "year           0\n",
      "dtype: int64\n",
      "   mileage        make   model      fuel    gear offerType  price     hp  year\n",
      "0   235000         BMW     316    Diesel  Manual      Used   6800  116.0  2011\n",
      "1    92800  Volkswagen    Golf  Gasoline  Manual      Used   6877  122.0  2011\n",
      "2   149300        SEAT    Exeo  Gasoline  Manual      Used   6900  160.0  2011\n",
      "3    96200     Renault  Megane  Gasoline  Manual      Used   6950  110.0  2011\n",
      "4   156000     Peugeot     308  Gasoline  Manual      Used   6950  156.0  2011\n"
     ]
    }
   ],
   "source": [
    "print(dataset.isnull().sum())\n",
    "\n",
    "# Take a look at the first few rows\n",
    "print(dataset.head())"
   ]
  },
  {
   "cell_type": "code",
   "execution_count": 113,
   "id": "d21bf3a9-d397-47f2-82f9-dc5025ba2ed3",
   "metadata": {},
   "outputs": [
    {
     "name": "stdout",
     "output_type": "stream",
     "text": [
      "0        235000\n",
      "1         92800\n",
      "2        149300\n",
      "3         96200\n",
      "4        156000\n",
      "          ...  \n",
      "46400        99\n",
      "46401        99\n",
      "46402        99\n",
      "46403        99\n",
      "46404        99\n",
      "Name: mileage, Length: 46405, dtype: int64\n",
      "0        False\n",
      "1        False\n",
      "2        False\n",
      "3        False\n",
      "4        False\n",
      "         ...  \n",
      "46400    False\n",
      "46401    False\n",
      "46402    False\n",
      "46403    False\n",
      "46404    False\n",
      "Name: mileage, Length: 46405, dtype: bool\n",
      "0    False\n",
      "1    False\n",
      "2    False\n",
      "3    False\n",
      "4    False\n",
      "Name: mileage, dtype: bool\n"
     ]
    }
   ],
   "source": [
    "print(dataset['mileage'])\n",
    "print(dataset['mileage'].isnull())\n",
    "print(dataset['mileage'].isnull().head())"
   ]
  },
  {
   "cell_type": "code",
   "execution_count": 114,
   "id": "8e9c7205-ea2d-4a6b-8246-c8fa45927d2f",
   "metadata": {},
   "outputs": [
    {
     "name": "stdout",
     "output_type": "stream",
     "text": [
      "0    False\n",
      "1    False\n",
      "2    False\n",
      "3    False\n",
      "4    False\n",
      "Name: make, dtype: bool 0    False\n",
      "1    False\n",
      "2    False\n",
      "3    False\n",
      "4    False\n",
      "Name: model, dtype: bool 0    False\n",
      "1    False\n",
      "2    False\n",
      "3    False\n",
      "4    False\n",
      "Name: fuel, dtype: bool 0    False\n",
      "1    False\n",
      "2    False\n",
      "3    False\n",
      "4    False\n",
      "Name: gear, dtype: bool 0    False\n",
      "1    False\n",
      "2    False\n",
      "3    False\n",
      "4    False\n",
      "Name: offerType, dtype: bool 0    False\n",
      "1    False\n",
      "2    False\n",
      "3    False\n",
      "4    False\n",
      "Name: price, dtype: bool 0    False\n",
      "1    False\n",
      "2    False\n",
      "3    False\n",
      "4    False\n",
      "Name: hp, dtype: bool 0    False\n",
      "1    False\n",
      "2    False\n",
      "3    False\n",
      "4    False\n",
      "Name: year, dtype: bool\n"
     ]
    }
   ],
   "source": [
    "#header tbl:  mileage(analysed before), make,   model,  fuel,  gear, offerType,  price,   hp,  year\n",
    "print(\n",
    "    dataset['make'].isnull().head(),\n",
    "    dataset['model'].isnull().head(),\n",
    "    dataset['fuel'].isnull().head(),\n",
    "    dataset['gear'].isnull().head(),\n",
    "    dataset['offerType'].isnull().head(),\n",
    "    dataset['price'].isnull().head(),\n",
    "    dataset['hp'].isnull().head(),\n",
    "    dataset['year'].isnull().head(),\n",
    ")"
   ]
  },
  {
   "cell_type": "code",
   "execution_count": null,
   "id": "5cff9b16-047c-4569-a9c8-2921ba6fc85a",
   "metadata": {},
   "outputs": [],
   "source": []
  },
  {
   "cell_type": "code",
   "execution_count": null,
   "id": "16641cda-3d36-4b5c-80fc-21720b151629",
   "metadata": {},
   "outputs": [],
   "source": []
  },
  {
   "cell_type": "code",
   "execution_count": null,
   "id": "a696fe42-fecd-437e-a572-69f2389f857b",
   "metadata": {},
   "outputs": [],
   "source": []
  },
  {
   "cell_type": "code",
   "execution_count": null,
   "id": "6be2ab7e-3d2d-418a-a2c5-fa7f4bfc2be0",
   "metadata": {},
   "outputs": [],
   "source": []
  },
  {
   "cell_type": "code",
   "execution_count": null,
   "id": "b0789546-ea46-4d11-89f0-cf633ce02eb0",
   "metadata": {},
   "outputs": [],
   "source": []
  },
  {
   "cell_type": "code",
   "execution_count": null,
   "id": "6ca53f75-a225-45e5-81a5-0762e2a4c168",
   "metadata": {},
   "outputs": [],
   "source": []
  },
  {
   "cell_type": "code",
   "execution_count": null,
   "id": "fdb77150-bbcc-4a62-873f-d7da5c3120e9",
   "metadata": {},
   "outputs": [],
   "source": []
  },
  {
   "cell_type": "code",
   "execution_count": null,
   "id": "13874494-f1ad-4af9-8b96-516a3c1be56f",
   "metadata": {},
   "outputs": [],
   "source": []
  }
 ],
 "metadata": {
  "kernelspec": {
   "display_name": "Python 3",
   "language": "python",
   "name": "python3"
  },
  "language_info": {
   "codemirror_mode": {
    "name": "ipython",
    "version": 3
   },
   "file_extension": ".py",
   "mimetype": "text/x-python",
   "name": "python",
   "nbconvert_exporter": "python",
   "pygments_lexer": "ipython3",
   "version": "3.8.8"
  }
 },
 "nbformat": 4,
 "nbformat_minor": 5
}

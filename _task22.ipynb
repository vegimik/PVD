{
 "cells": [
  {
   "cell_type": "code",
   "execution_count": null,
   "id": "21936dca-6ce1-4bc9-96b8-a7f85520f4e4",
   "metadata": {},
   "outputs": [],
   "source": [
    "import pandas as pd\n",
    "import numpy as np\n",
    "import _task1 as _task1\n",
    "import time\n",
    "import helper_functions as hf\n",
    "from pandas import read_csv\n",
    "from pandas.plotting import scatter_matrix\n",
    "from matplotlib import pyplot\n",
    "import seaborn as sns\n",
    "import matplotlib.pyplot as plt\n",
    "from sklearn.cluster import DBSCAN\n",
    "\n",
    "from sklearn.linear_model import LinearRegression"
   ]
  },
  {
   "cell_type": "code",
   "execution_count": null,
   "id": "1c0410ab-61fd-48b8-b723-f09cc4ddbba1",
   "metadata": {},
   "outputs": [],
   "source": [
    "#***************************************************************************\n",
    "def getDataSetFromatted():\n",
    "    dataset = _task1.preProcessingOfData()\n",
    "    \n",
    "    # Create a DataFrame object\n",
    "    datasetDfObj = pd.DataFrame(dataset, columns=[ 'mileage','make','model','fuel','gear','offerType','price','hp','year'])\n",
    "    return datasetDfObj"
   ]
  },
  {
   "cell_type": "code",
   "execution_count": null,
   "id": "1c2e1b06-2569-468a-a45b-6c3876b96efe",
   "metadata": {},
   "outputs": [],
   "source": [
    "#***************************************************************************\n",
    "#1. Detrend by Differencing\n",
    "\n",
    "def DetrendByDifferencing():\n",
    "    dataset = getDataSetFromatted()\n",
    "    data = np.array(dataset[['mileage','year']])\n",
    "    #series = read_csv(data, header=0, parse_dates=[0], index_col=0, squeeze=True, date_parser=parser)\n",
    "    X = data#.values\n",
    "    diff = list()\n",
    "    for i in range(1, len(X)):\n",
    "        value = X[i] - X[i - 1]\n",
    "        diff.append(value)\n",
    "    pyplot.plot(diff)\n",
    "    pyplot.show()"
   ]
  },
  {
   "cell_type": "code",
   "execution_count": null,
   "id": "6c7f8d28-ffd8-4300-9640-ff2355609115",
   "metadata": {},
   "outputs": [],
   "source": [
    "#***************************************************************************\n",
    "#2. Detrend by Model Fitting\n",
    "\n",
    "def DetrendByModelFitting():\n",
    "    dataset = getDataSetFromatted()\n",
    "    data = np.array(dataset[['mileage','year']])\n",
    "    #series = read_csv(data, header=0, parse_dates=[0], index_col=0, squeeze=True, date_parser=parser)\n",
    "    #X = #.values\n",
    "\n",
    "    series =data #read_csv('shampoo-sales.csv', header=0, parse_dates=[0], index_col=0, squeeze=True, date_parser=parser)\n",
    "    # fit linear model\n",
    "    X = [i for i in range(0, len(series))]\n",
    "    X = np.reshape(X, (len(X), 1))\n",
    "    y = series#.values\n",
    "    model = LinearRegression()\n",
    "    model.fit(X, y)\n",
    "    # calculate trend\n",
    "    trend = model.predict(X)\n",
    "    # plot trend\n",
    "    pyplot.plot(y)\n",
    "    pyplot.plot(trend)\n",
    "    pyplot.show()\n",
    "    # detrend\n",
    "    detrended = [y[i]-trend[i] for i in range(0, len(series))]\n",
    "    # plot detrended\n",
    "    pyplot.plot(detrended)\n",
    "    pyplot.show()"
   ]
  },
  {
   "cell_type": "code",
   "execution_count": null,
   "id": "b167c1ea-116c-4176-990f-15c871495f69",
   "metadata": {},
   "outputs": [],
   "source": [
    "def init_task22():\n",
    "    DetrendByDifferencing()\n",
    "    DetrendByModelFitting()"
   ]
  },
  {
   "cell_type": "code",
   "execution_count": null,
   "id": "a6449437-a4ef-411c-9f0f-375b5292e79f",
   "metadata": {},
   "outputs": [],
   "source": [
    "init_task22()"
   ]
  }
 ],
 "metadata": {
  "kernelspec": {
   "display_name": "Python 3",
   "language": "python",
   "name": "python3"
  },
  "language_info": {
   "codemirror_mode": {
    "name": "ipython",
    "version": 3
   },
   "file_extension": ".py",
   "mimetype": "text/x-python",
   "name": "python",
   "nbconvert_exporter": "python",
   "pygments_lexer": "ipython3",
   "version": "3.8.8"
  }
 },
 "nbformat": 4,
 "nbformat_minor": 5
}

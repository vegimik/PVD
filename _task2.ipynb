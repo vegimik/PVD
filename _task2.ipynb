{
 "cells": [
  {
   "cell_type": "code",
   "execution_count": null,
   "id": "44ce03cb-63d1-46f8-97ad-dba732c8f94c",
   "metadata": {},
   "outputs": [],
   "source": [
    "#pip install ydata-quality"
   ]
  },
  {
   "cell_type": "code",
   "execution_count": null,
   "id": "d9ddce28-856b-48b8-b0db-80f7eb239a65",
   "metadata": {},
   "outputs": [],
   "source": [
    "import pandas as pd\n",
    "import numpy as np\n",
    "import helper_functions as hf\n",
    "import _task1 as _task1\n",
    "from ydata_quality import DataQuality\n",
    "\n",
    "import matplotlib.pyplot as plt\n",
    "import warnings\n",
    "warnings.filterwarnings('ignore')\n",
    "from sklearn import cluster\n",
    "from subprocess import check_output\n",
    "\n",
    "\n",
    "def init_task3():\n",
    "    defineDataTypesFunc()\n",
    "    qualityOfData()\n",
    "    "
   ]
  },
  {
   "cell_type": "code",
   "execution_count": null,
   "id": "eedab03b-4cf7-4e40-b217-200ceaa3a7f3",
   "metadata": {},
   "outputs": [],
   "source": [
    "def defineDataTypesFunc():\n",
    "    # List of Tuples    \n",
    "    dataset = _task1.preProcessingOfData() #hf.readDataset()\n",
    "    \n",
    "    # Create a DataFrame object\n",
    "    datasetDfObj = pd.DataFrame(dataset, columns=[ 'mileage','make','model','fuel','gear','offerType','price','hp','year'])\n",
    "    print(\"Contents of the Dataframe : \")\n",
    "    print(datasetDfObj)\n",
    "    print('*** Get the Data type of each column in Dataframe ***')\n",
    "    # Get a Series object containing the data type objects of each column of Dataframe.\n",
    "    # Index of series is column name.\n",
    "    dataTypeSeries = datasetDfObj.dtypes\n",
    "    print('Data type of each column of Dataframe :')\n",
    "    print(dataTypeSeries)\n",
    "    # Get a Dictionary containing the pairs of column names & data type objects.\n",
    "    dataTypeDict = dict(datasetDfObj.dtypes)\n",
    "    print('Data type of each column of Dataframe :')\n",
    "    print(dataTypeDict)\n",
    "    print('*** Get the Data type of a single column in Dataframe ***')\n",
    "    # get data type of column 'Price'\n",
    "    dataTypeObj = datasetDfObj.dtypes['price']\n",
    "    print('Data type of each column Price in the Dataframe :')\n",
    "    print(dataTypeObj)\n",
    "    print('\\n*** Check if Data type of a column is int64 or object etc in Dataframe ***')\n",
    "    # Check the type of column 'Price' is int64\n",
    "    if dataTypeObj == np.int64:\n",
    "        print(\"Data type of column 'Price' is int64\")\n",
    "    # Check the type of column 'HoursPower' is object i.e string\n",
    "    if datasetDfObj.dtypes['hp'] == np.float64:\n",
    "        print(\"Data type of column 'hp' is float\")\n",
    "    print('Change the data types for multiple fields to boolean')\n",
    "    datasetDfObj=datasetDfObj.astype({'make': 'string', 'model': 'string', 'fuel':'string', 'gear':'string',  'offerType':'string', 'hp':'int64', 'price':'float64', 'mileage':'float64'})\n",
    "    print('\\nDetermine count of unique values for each column in the dataframe')\n",
    "    print(dataset.nunique())\n",
    "    print('\\n*** Get the Data type of each column in Dataframe using info() ***')\n",
    "    # Print complete details about the data frame, it will also print column count, names and data types.\n",
    "    datasetDfObj.info()\n",
    "    return dataset\n",
    "    \n",
    "    \n",
    "    "
   ]
  },
  {
   "cell_type": "code",
   "execution_count": null,
   "id": "03d1e924-19f2-4bd7-8a9f-565fbaaab466",
   "metadata": {},
   "outputs": [],
   "source": [
    "#===================================================================================================\n",
    "# Quality of data\n",
    "\n",
    "def qualityOfData():\n",
    "    #Load in the data\n",
    "    df = defineDataTypesFunc()[0:100] #_task1.preProcessingOfData()[0:100]\n",
    "\n",
    "    print('Number of rows and columns as a tuple (number of rows, number of columns)')\n",
    "    print(df.shape) \n",
    "    print(df.duplicated(subset='model').sum())\n",
    "    print(len(df))\n",
    "    df = df.drop_duplicates(subset='model')\n",
    "    print(len(df))\n",
    "    \n",
    "    print('Show the relations between prices and mark/brand')\n",
    "    df = df.sort_values('mark', ascending=True)\n",
    "    df.plot(x='mark',y='price',style='o',alpha=0.4,legend=False)\n",
    "    plt.xticks(rotation='horizontal')\n",
    "    plt.xlabel('Mark(Brand)', fontsize=12)\n",
    "    plt.ylabel('Price', fontsize=12)\n",
    "    plt.show()\n",
    "    \n",
    "    #print(df.isnull().sum())\n",
    "\n",
    "    print('Here we can see the variations price of cars for itself mileages')\n",
    "    df['Group'] = df['year'].apply(lambda x: hf.group_years(x))\n",
    "    colors = {'A':'#080707','B':'#282626','C':'#3d3939','D':'#686666','E':'#797777','F':'#a9a9a3','G':'#bebfc1','H':'#d2d2d2'}\n",
    "    fig, ax = plt.subplots()\n",
    "    ax.scatter(df['price'],df['mileage'], c=df['Group'].apply(lambda x: colors[x]),alpha=0.6)\n",
    "    plt.xlabel('PriceS', fontsize=12)\n",
    "    plt.ylabel('Mileages', fontsize=12)\n",
    "    plt.show()\n",
    "\n",
    "    df=df.dropna()\n",
    "    df.info()\n",
    "\n",
    "    # create a DataQuality object from the main class that holds all quality modules\n",
    "    #dq = DataQuality(df=df)\n",
    "\n",
    "    # run the tests and outputs a summary of the quality tests\n",
    "    #result=dq.evaluate()\n"
   ]
  },
  {
   "cell_type": "code",
   "execution_count": null,
   "id": "eee5bff1-6745-410b-a730-59f2dce50e89",
   "metadata": {},
   "outputs": [],
   "source": [
    "#defineDataTypesFunc()"
   ]
  },
  {
   "cell_type": "code",
   "execution_count": null,
   "id": "b7a60dff-289f-4954-ba27-236f5ee68a4c",
   "metadata": {},
   "outputs": [],
   "source": [
    "qualityOfData()"
   ]
  },
  {
   "cell_type": "code",
   "execution_count": null,
   "id": "36d2736d-cd36-47c9-9ad2-8fda758f4349",
   "metadata": {},
   "outputs": [],
   "source": []
  },
  {
   "cell_type": "code",
   "execution_count": null,
   "id": "edd4aacc-5414-43b0-9118-a4a58f2f233f",
   "metadata": {},
   "outputs": [],
   "source": []
  },
  {
   "cell_type": "code",
   "execution_count": null,
   "id": "ce963b72-7eb7-40b2-9649-a5783c416b47",
   "metadata": {},
   "outputs": [],
   "source": []
  }
 ],
 "metadata": {
  "kernelspec": {
   "display_name": "Python 3",
   "language": "python",
   "name": "python3"
  },
  "language_info": {
   "codemirror_mode": {
    "name": "ipython",
    "version": 3
   },
   "file_extension": ".py",
   "mimetype": "text/x-python",
   "name": "python",
   "nbconvert_exporter": "python",
   "pygments_lexer": "ipython3",
   "version": "3.8.8"
  }
 },
 "nbformat": 4,
 "nbformat_minor": 5
}
